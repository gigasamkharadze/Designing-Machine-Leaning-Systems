{
 "cells": [
  {
   "metadata": {},
   "cell_type": "markdown",
   "source": [
    "# Data leakage\n",
    "Data leakage refers to the phenomenon when a form of the label “leaks” into the set of features used for making predictions, and this same information is not available during inference. Data leakage is challenging because often the leakage is nonobvious. It’s dangerous because it can cause your models to fail in an unexpected and spectacular way.\n",
    "\n",
    "When building models to predict the future stock prices, you want to split your training data by time, such as training your model on data from the first six days and evaluating it on data from the seventh day. If you randomly split your data, prices from the seventh day will be included in your train split and leak into your model the condition of the market on that day. We say that the information from the future is leaked into the training process.\n",
    "\n",
    "![data_leakage](./screenshots/split-by-time.png)\n"
   ],
   "id": "6690632dca521e14"
  },
  {
   "metadata": {},
   "cell_type": "markdown",
   "source": [
    "# Scaling before splitting\n",
    "One common mistake is to use the entire training data to generate global statistics before splitting it into different splits, leaking the mean and variance of the test samples into the training process, allowing a model to\n",
    "adjust its predictions for the test samples.\n",
    "\n",
    "To avoid this type of leakage, always split your data first before scaling, then use the statistics from the train split to scale all the splits. Some even suggest that we split our data before any exploratory data analysis and data processing, so that we don’t accidentally gain information about the test split."
   ],
   "id": "be2f8f3ff45beb5"
  },
  {
   "metadata": {},
   "cell_type": "markdown",
   "source": [
    "# Filling in missing data with statistics from the test split\n",
    "One common way to handle the missing values of a feature is to fill (input) them with the mean or median of all values present. Leakage might occur if the mean or median is calculated using entire data instead of just the train split."
   ],
   "id": "482ddad05306ad3b"
  },
  {
   "metadata": {},
   "cell_type": "markdown",
   "source": [
    "# Poor handling of data duplication before splitting\n",
    "If you have duplicates or near-duplicates in your data, failing to remove them before splitting your data might cause the same samples to appear in both train and validation/test splits.\n",
    "\n",
    "Data duplication can result from data collection or merging of different data sources. To avoid this, always check for duplicates before splitting and also after splitting just to make sure. If you oversample your data, do it after splitting.\n"
   ],
   "id": "d03917e4a3a765aa"
  },
  {
   "metadata": {},
   "cell_type": "markdown",
   "source": [
    "# Group leakage\n",
    "A group of examples have strongly correlated labels but are divided into different splits. For example, a patient might have two lung CT scans that are a week apart, which likely have the same labels on whether they contain signs of lung cancer, but one of them is in the train split and the second is in the test split."
   ],
   "id": "2cc1135f25a6a378"
  },
  {
   "metadata": {},
   "cell_type": "markdown",
   "source": [
    "# Leakage from data generation process\n",
    "There’s no foolproof way to avoid this type of leakage, but you can mitigate the risk by keeping track of the sources of your data and understanding how it is collected and processed. Normalize your data so that data from different sources can have the same means and variances."
   ],
   "id": "a5800e98fca65805"
  }
 ],
 "metadata": {
  "kernelspec": {
   "display_name": "Python 3",
   "language": "python",
   "name": "python3"
  },
  "language_info": {
   "codemirror_mode": {
    "name": "ipython",
    "version": 2
   },
   "file_extension": ".py",
   "mimetype": "text/x-python",
   "name": "python",
   "nbconvert_exporter": "python",
   "pygments_lexer": "ipython2",
   "version": "2.7.6"
  }
 },
 "nbformat": 4,
 "nbformat_minor": 5
}
