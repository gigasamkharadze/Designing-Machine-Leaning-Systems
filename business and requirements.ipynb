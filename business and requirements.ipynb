{
 "cells": [
  {
   "metadata": {},
   "cell_type": "markdown",
   "source": [
    "# Business and ML Objectives\n",
    "Before we develop an ML system, we must understand why this system is needed. If this system is built for a business, it must be driven by business objectives, which will need to be translated into ML objectives to guide the development of ML models.\n",
    "\n",
    "Once everyone is on board with the objectives for our ML system, we’ll need to set out some requirements to guide the development of this system. We will consider the following:\n",
    "- Reliability\n",
    "- Scalability\n",
    "- Maintainability\n",
    "- Auditability"
   ],
   "id": "bfb875a9452170cd"
  },
  {
   "metadata": {},
   "cell_type": "markdown",
   "source": [
    "## With all these objectives, requirements, and processes in place, can I finally start building my ML model yet? Not so soon!\n",
    "\n",
    "For an ML project to succeed within a business organization, it’s crucial to tie the performance of an ML system to the overall business performance. What business performance metrics is the new ML system supposed to influence, e.g., the amount of ads revenue, the number of monthly active users?\n",
    "\n",
    "*Many companies create their own metrics to map business metrics to ML metrics*. For example, Netflix measures the performance of their recommender system using **take-rate**: the number of quality plays divided by the number of recommendations a user sees. The higher the take-rate, the better the recommender system. They found that a higher take-rate also results in higher total streaming hours and lower subscription cancellation rates.\n",
    "\n",
    "To gain a definite answer on the question of how ML metrics influence business metrics, experiments are often needed. Many companies do that with experiments like **A/B testing** and choose the model that leads to better business metrics, regardless of whether this model has better ML metrics."
   ],
   "id": "4be91df3549c1d26"
  },
  {
   "metadata": {},
   "cell_type": "markdown",
   "source": [
    "### Reliability\n",
    "The system should continue to perform the correct function at the desired level of performance even in the face of adversity.\n",
    "\n",
    "With traditional software systems, you often get a warning, such as a system crash or runtime error or 404. However, ML systems can fail silently. End users don’t even know that the system has failed and might have kept on using it as if it were working.\n",
    "\n",
    "### Scalability\n",
    "There are multiple ways an ML system can grow.\n",
    "\n",
    "- Complexity: Last year you used a logistic regression model that fit into an Amazon Web Services (AWS) free tier instance with 1 GB of RAM, but this year, you switched to a 100-million-parameter neural network that requires 16 GB of RAM to generate predictions.\n",
    "- Traffic volume: When you started deploying an ML system, you only served 10,000 prediction requests daily. However, as your company’s user base grows, the number of prediction requests your ML system serves daily fluctuates between 1 million and 10 million.\n",
    "- ML models: You might need to include different models for extended functionality\n",
    "\n",
    "Whichever way your system grows, there should be reasonable ways of dealing with that growth. For example, at peak, your system might require 100 GPUs. However, most of the time, it needs only 10 GPUs. Keeping 100 GPUs up all the time can be costly, so your system should be able to scale down to 10 GPUs.\n",
    "\n",
    "### Maintainability\n",
    "It’s important to structure your workloads and set up your infrastructure in such a way that different contributors can work using tools that they are comfortable with, instead of one group of contributors forcing their tools onto other groups.\n",
    "\n",
    "Code should be documented. Code, data, and artifacts should be versioned.\n",
    "\n",
    "### Adaptability\n",
    "To adapt to shifting data distributions and business requirements, the system should have some capacity for both discovering aspects for performance improvement and allowing updates without service interruption."
   ],
   "id": "72e6b59490002a58"
  },
  {
   "metadata": {},
   "cell_type": "markdown",
   "source": [
    "# Iterative Process\n",
    "Developing an ML system is an iterative and, in most cases, never-ending process. Once a system is put into production, it’ll need to be continually monitored and updated.\n",
    "\n",
    "![Steps](screenshots/iterative-process.png)\n"
   ],
   "id": "6b136855b7e0ee4b"
  },
  {
   "metadata": {},
   "cell_type": "markdown",
   "source": [
    "# Types of ML Tasks\n",
    "\n",
    "![Types of tasks in ML](screenshots/types-of-tasks.png)\n",
    "\n",
    "## Classification versus regression\n",
    "Classification models classify inputs into different categories. For example, you want to classify each email to be either spam or not spam. Regression models output a continuous value. An example is a house prediction model that outputs the price of a given house.\n",
    "\n",
    "A regression model can easily be framed as a classification model and vice versa.\n",
    "\n",
    "## Binary versus multiclass classification\n",
    "Binary classification - where there are only two possible classes. When there are more than two classes, the problem becomes multiclass classification.\n",
    "\n",
    "For ***high cardinality*** (so many categories) data collection is a problem, especially difficult for rare classes.\n",
    "\n",
    "\n",
    "## Multiclass versus multilabel classification\n",
    "In both binary and multiclass classification, each example belongs to exactly one class. When an example can belong to multiple classes, we have a multilabel classification problem. For example, when building a model to classify articles into four topics—tech, entertainment, finance, and politics—an article can be in both tech and finance.\n",
    "\n",
    "- Multiclass: Each instance is assigned exactly one label from a set of mutually exclusive classes.\n",
    "- Multilabel: Each instance can have multiple labels simultaneously.\n",
    "\n",
    "Solution:\n",
    "1. Treat as a multiclass classification problem. [0 1 1 0] means that the entry belongs to the second and third classes correspondingly.\n",
    "2. Turn into a set of binary classification problems. (1 vs the remaining)\n"
   ],
   "id": "c11424ca943f8bcb"
  },
  {
   "metadata": {},
   "cell_type": "markdown",
   "source": [
    "# Objective function\n",
    "To learn, an ML model needs an objective function to guide the learning process.An objective function is also called a **loss function**, because the objective of the learning process is usually to minimize (or optimize) the loss caused by wrong predictions. For supervised ML, this loss can be computed by comparing the model’s outputs with the ground truth labels."
   ],
   "id": "30a8fb317928705"
  },
  {
   "metadata": {
    "ExecuteTime": {
     "end_time": "2025-02-04T20:43:43.975577Z",
     "start_time": "2025-02-04T20:43:43.858926Z"
    }
   },
   "cell_type": "code",
   "source": [
    "import numpy as np\n",
    "\n",
    "def cross_entropy(p, q):\n",
    "    return -sum([p[i] * np.log(q[i]) for i in range(len(p))])\n",
    "\n",
    "p = [0, 0, 0, 1]\n",
    "q = [0.45, 0.2, 0.02, 0.33]\n",
    "cross_entropy(p, q)"
   ],
   "id": "d9f802313eb1ffae",
   "outputs": [
    {
     "data": {
      "text/plain": [
       "np.float64(1.1086626245216111)"
      ]
     },
     "execution_count": 2,
     "metadata": {},
     "output_type": "execute_result"
    }
   ],
   "execution_count": 2
  },
  {
   "metadata": {},
   "cell_type": "markdown",
   "source": [
    "# Mind Versus Data\n",
    "Progress in the last decade shows that the success of an ML system depends largely on the data it was trained on. Instead of focusing on improving ML algorithms, most companies focus on managing and improving their data."
   ],
   "id": "2e98aceb070d4a77"
  }
 ],
 "metadata": {
  "kernelspec": {
   "display_name": "Python 3",
   "language": "python",
   "name": "python3"
  },
  "language_info": {
   "codemirror_mode": {
    "name": "ipython",
    "version": 2
   },
   "file_extension": ".py",
   "mimetype": "text/x-python",
   "name": "python",
   "nbconvert_exporter": "python",
   "pygments_lexer": "ipython2",
   "version": "2.7.6"
  }
 },
 "nbformat": 4,
 "nbformat_minor": 5
}
